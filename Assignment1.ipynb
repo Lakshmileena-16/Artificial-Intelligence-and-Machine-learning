{
  "nbformat": 4,
  "nbformat_minor": 0,
  "metadata": {
    "colab": {
      "provenance": [],
      "authorship_tag": "ABX9TyPyJ4R1r5Uqn9SOVy4CVACE",
      "include_colab_link": true
    },
    "kernelspec": {
      "name": "python3",
      "display_name": "Python 3"
    },
    "language_info": {
      "name": "python"
    }
  },
  "cells": [
    {
      "cell_type": "markdown",
      "metadata": {
        "id": "view-in-github",
        "colab_type": "text"
      },
      "source": [
        "<a href=\"https://colab.research.google.com/github/Lakshmileena-16/Artificial-Intelligence-and-Machine-learning/blob/main/Assignment1.ipynb\" target=\"_parent\"><img src=\"https://colab.research.google.com/assets/colab-badge.svg\" alt=\"Open In Colab\"/></a>"
      ]
    },
    {
      "cell_type": "code",
      "source": [
        "# TASK-1 :  create two lists & join those two lists"
      ],
      "metadata": {
        "id": "bHBZ6p_lYmZk"
      },
      "execution_count": null,
      "outputs": []
    },
    {
      "cell_type": "code",
      "source": [
        "test_list1 =[1,4,5,6,5]\n",
        "test_list2 =[3,5,7,2,5]\n",
        "#using + operator\n",
        "test_list3=test_list1+test_list2\n",
        "# printing concatenated list\n",
        "print (\"concatenated list using + : \" + str(test_list3))"
      ],
      "metadata": {
        "colab": {
          "base_uri": "https://localhost:8080/"
        },
        "id": "JmYQ_boDZiHo",
        "outputId": "56bad273-bfe2-4566-dd9a-e7ebda52d05b"
      },
      "execution_count": 1,
      "outputs": [
        {
          "output_type": "stream",
          "name": "stdout",
          "text": [
            "concatenated list using + : [1, 4, 5, 6, 5, 3, 5, 7, 2, 5]\n"
          ]
        }
      ]
    },
    {
      "cell_type": "code",
      "source": [
        "# TASK-2 : with \"if\" statement find  the even numbers"
      ],
      "metadata": {
        "id": "9Aq-EP-VZzLi"
      },
      "execution_count": null,
      "outputs": []
    },
    {
      "cell_type": "code",
      "source": [
        "sum = int(input(\"enter any number\"))\n",
        "if(sum%2)==0:\n",
        " print(\"the number is even\")\n",
        "else:\n",
        "  print(\"the number is not a even number\")"
      ],
      "metadata": {
        "colab": {
          "base_uri": "https://localhost:8080/"
        },
        "id": "j4QI1wLOahpg",
        "outputId": "4846a0bf-8620-4bb4-eee1-8d142bb82be9"
      },
      "execution_count": 8,
      "outputs": [
        {
          "output_type": "stream",
          "name": "stdout",
          "text": [
            "enter any number22\n",
            "the number is even\n"
          ]
        }
      ]
    },
    {
      "cell_type": "code",
      "source": [
        "TASK-3 :  create a dictionary with 3 keys and 2 values for each key"
      ],
      "metadata": {
        "id": "RjwMqsNCbQDo"
      },
      "execution_count": null,
      "outputs": []
    },
    {
      "cell_type": "code",
      "source": [
        "demo = {'first': [1,2],\n",
        "        'second':[3,4],\n",
        "        'third':[5,6]}\n",
        "# getting values of a key\n",
        "example=demo['first']\n",
        "print(example)"
      ],
      "metadata": {
        "colab": {
          "base_uri": "https://localhost:8080/"
        },
        "id": "F-ZieUC3bsEB",
        "outputId": "fbb1e080-7ebd-480d-c19e-163c16326bce"
      },
      "execution_count": 9,
      "outputs": [
        {
          "output_type": "stream",
          "name": "stdout",
          "text": [
            "[1, 2]\n"
          ]
        }
      ]
    },
    {
      "cell_type": "code",
      "source": [
        "# TASK-4 : create a function with 'if' statement which is used to find the odd numbers"
      ],
      "metadata": {
        "id": "W_-IZe8vb1rn"
      },
      "execution_count": null,
      "outputs": []
    },
    {
      "cell_type": "code",
      "source": [
        "num=int(input(\"enetr any number :\"))\n",
        "if(num%2)==0:\n",
        "  print(\"{0}is not an odd number\".format(num))\n",
        "else:\n",
        "  print(\"{0} is an odd number\".format(num))"
      ],
      "metadata": {
        "colab": {
          "base_uri": "https://localhost:8080/"
        },
        "id": "9YDmzpCzcBuX",
        "outputId": "fd0560d2-469d-4fab-adc7-d5b659aacf91"
      },
      "execution_count": 10,
      "outputs": [
        {
          "output_type": "stream",
          "name": "stdout",
          "text": [
            "enetr any number :29\n",
            "29 is an odd number\n"
          ]
        }
      ]
    },
    {
      "cell_type": "code",
      "source": [
        "# TASK-5 : write a python function with if statement to sum all the numbers in a list"
      ],
      "metadata": {
        "id": "NWD6cDG0cHXg"
      },
      "execution_count": null,
      "outputs": []
    },
    {
      "cell_type": "code",
      "source": [
        "# Sample list of numbers\n",
        "numbers = [1, 2, 3, 4, 5]\n",
        "\n",
        "# Initialize a variable to store the sum\n",
        "sum_numbers = 0\n",
        "\n",
        "# Iterate through the list and add each number to the sum\n",
        "for num in numbers:\n",
        "    sum_numbers += num\n",
        "\n",
        "# Print the sum\n",
        "print(\"Sum of numbers in the list:\", sum_numbers)"
      ],
      "metadata": {
        "colab": {
          "base_uri": "https://localhost:8080/"
        },
        "id": "9ampnyVgcP94",
        "outputId": "75ee3be0-817d-4074-bea7-7317d0b30457"
      },
      "execution_count": 11,
      "outputs": [
        {
          "output_type": "stream",
          "name": "stdout",
          "text": [
            "Sum of numbers in the list: 15\n"
          ]
        }
      ]
    }
  ]
}